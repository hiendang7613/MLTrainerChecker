{
  "nbformat": 4,
  "nbformat_minor": 0,
  "metadata": {
    "colab": {
      "provenance": [],
      "gpuType": "T4"
    },
    "kernelspec": {
      "name": "python3",
      "display_name": "Python 3"
    },
    "language_info": {
      "name": "python"
    },
    "accelerator": "GPU"
  },
  "cells": [
    {
      "cell_type": "code",
      "source": [
        "!pip install torcheval\n",
        "!pip install mltrainer-checker"
      ],
      "metadata": {
        "colab": {
          "base_uri": "https://localhost:8080/"
        },
        "id": "9LZxkxQiBHed",
        "outputId": "87b206f4-9d25-4663-e735-b2cb88882910"
      },
      "execution_count": 1,
      "outputs": [
        {
          "output_type": "stream",
          "name": "stdout",
          "text": [
            "Collecting torcheval\n",
            "  Downloading torcheval-0.0.7-py3-none-any.whl (179 kB)\n",
            "\u001b[2K     \u001b[90m━━━━━━━━━━━━━━━━━━━━━━━━━━━━━━━━━━━━━━━\u001b[0m \u001b[32m179.2/179.2 kB\u001b[0m \u001b[31m2.3 MB/s\u001b[0m eta \u001b[36m0:00:00\u001b[0m\n",
            "\u001b[?25hRequirement already satisfied: typing-extensions in /usr/local/lib/python3.10/dist-packages (from torcheval) (4.5.0)\n",
            "Installing collected packages: torcheval\n",
            "Successfully installed torcheval-0.0.7\n"
          ]
        }
      ]
    },
    {
      "cell_type": "code",
      "execution_count": 2,
      "metadata": {
        "colab": {
          "base_uri": "https://localhost:8080/"
        },
        "id": "DREW5JCQAFS7",
        "outputId": "763fd19a-8dde-4d31-83f3-cf459114c9cb"
      },
      "outputs": [
        {
          "output_type": "stream",
          "name": "stdout",
          "text": [
            "Cloning into 'CustomKnowledgeGraphEmbedding'...\n",
            "remote: Enumerating objects: 523, done.\u001b[K\n",
            "remote: Counting objects: 100% (437/437), done.\u001b[K\n",
            "remote: Compressing objects: 100% (224/224), done.\u001b[K\n",
            "remote: Total 523 (delta 240), reused 374 (delta 194), pack-reused 86\u001b[K\n",
            "Receiving objects: 100% (523/523), 32.28 MiB | 12.10 MiB/s, done.\n",
            "Resolving deltas: 100% (265/265), done.\n"
          ]
        }
      ],
      "source": [
        "!git clone https://github.com/NguyenThaiHoc1/CustomKnowledgeGraphEmbedding.git\n",
        "%cd CustomKnowledgeGraphEmbedding\n",
        "!git checkout hien-dv"
      ]
    },
    {
      "cell_type": "code",
      "source": [
        "import mltrainer_checker as mltc\n",
        "\n",
        "# import your projects\n",
        "import sys\n",
        "sys.path.append('/content/CustomKnowledgeGraphEmbedding/')\n",
        "from tensorflow_codes.supervisor import getTFTrainer\n",
        "sys.path.append('/content/CustomKnowledgeGraphEmbedding/KnowledgeGraphEmbedding')\n",
        "from codes.model import getTorchTrainer\n",
        "\n",
        "# Get your trainers\n",
        "tf_trainer, tf_model, tf_optimizer, tf_dataloader, tf_test_loader =getTFTrainer()\n",
        "torch_trainer, torch_model, torch_optimizer = getTorchTrainer()\n",
        "\n",
        "# Test your trainers\n",
        "mltc.test_trainer(\n",
        "  tf_trainer, torch_trainer,\n",
        "  tf_model, torch_model,\n",
        "  tf_optimizer, torch_optimizer,\n",
        "  tf_train_loader=tf_dataloader,\n",
        "  tf_test_loader=tf_test_loader,\n",
        "  batch_size=2,\n",
        "  loader_length=10\n",
        "  )"
      ],
      "metadata": {
        "colab": {
          "base_uri": "https://localhost:8080/"
        },
        "id": "02K2Z2Il630O",
        "outputId": "9178ef63-0685-4329-eacf-dcb8def08d5b"
      },
      "execution_count": 7,
      "outputs": [
        {
          "output_type": "stream",
          "name": "stdout",
          "text": [
            "Dataloader passed !!\n",
            "\n",
            "Info: missing_tf_weights :  []\n",
            "Info: missing_torch_weights :  ['gamma', 'embedding_range']\n",
            "Copy weights TF2Torch passed !!\n",
            "\n",
            "SetZeroLearningRate passed !!\n",
            "\n",
            "Info: Check test_step passed !!\n",
            "\n"
          ]
        },
        {
          "output_type": "stream",
          "name": "stderr",
          "text": [
            " 50%|█████     | 5/10 [00:08<00:04,  1.15it/s]WARNING:tensorflow:5 out of the last 11 calls to <function _BaseOptimizer._update_step_xla at 0x7b90506ee560> triggered tf.function retracing. Tracing is expensive and the excessive number of tracings could be due to (1) creating @tf.function repeatedly in a loop, (2) passing tensors with different shapes, (3) passing Python objects instead of tensors. For (1), please define your @tf.function outside of the loop. For (2), @tf.function has reduce_retracing=True option that can avoid unnecessary retracing. For (3), please refer to https://www.tensorflow.org/guide/function#controlling_retracing and https://www.tensorflow.org/api_docs/python/tf/function for  more details.\n",
            "100%|██████████| 10/10 [00:09<00:00,  1.09it/s]\n"
          ]
        },
        {
          "output_type": "stream",
          "name": "stdout",
          "text": [
            "Info: Check train_step passed !!\n",
            "\n"
          ]
        },
        {
          "output_type": "execute_result",
          "data": {
            "text/plain": [
              "True"
            ]
          },
          "metadata": {},
          "execution_count": 7
        }
      ]
    }
  ]
}